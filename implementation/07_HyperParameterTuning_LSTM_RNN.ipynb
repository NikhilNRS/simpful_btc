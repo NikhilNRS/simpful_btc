{
 "cells": [
  {
   "cell_type": "markdown",
   "id": "77575d7d-00f2-491e-89b1-7d370eb60c11",
   "metadata": {},
   "source": [
    "# Hyper Parameter Tuning using RandomizedSearchCV"
   ]
  },
  {
   "cell_type": "code",
   "execution_count": 1,
   "id": "3d3687e8-5528-4465-8be9-d63dfa542afd",
   "metadata": {},
   "outputs": [],
   "source": [
    "import pandas as pd\n",
    "from sklearn.preprocessing import MinMaxScaler\n",
    "\n",
    "# Paths to the prepped data files\n",
    "base_path = './data/prepped_data/'  # Adjusted base path to where your files are now\n",
    "X_train_path = base_path + 'X_train.csv'\n",
    "X_test_path = base_path + 'X_test.csv'\n",
    "y_train_path = base_path + 'y_train.csv'\n",
    "y_test_path = base_path + 'y_test.csv'\n",
    "\n",
    "# Loading the datasets\n",
    "X_train = pd.read_csv(X_train_path)\n",
    "X_test = pd.read_csv(X_test_path)\n",
    "y_train = pd.read_csv(y_train_path)\n",
    "y_test = pd.read_csv(y_test_path)\n",
    "\n",
    "# Assuming the last columns of X_train and X_test are year, month, day, hour for reconstructing the datetime index\n",
    "X_train['datetime'] = pd.to_datetime(X_train[['year', 'month', 'day', 'hour']])\n",
    "X_test['datetime'] = pd.to_datetime(X_test[['year', 'month', 'day', 'hour']])\n",
    "y_train.index = pd.to_datetime(X_train['datetime'])\n",
    "y_test.index = pd.to_datetime(X_test['datetime'])\n",
    "\n",
    "# Exclude non-numerical columns before scaling\n",
    "columns_to_scale = X_train.columns.difference(['year', 'month', 'day', 'hour', 'datetime'])\n",
    "\n",
    "# Initialize the scaler for the features\n",
    "scaler_X = MinMaxScaler()\n",
    "\n",
    "# Scale 'X' features (excluding non-numerical columns)\n",
    "X_train_scaled = scaler_X.fit_transform(X_train[columns_to_scale])\n",
    "X_test_scaled = scaler_X.transform(X_test[columns_to_scale])\n",
    "\n",
    "# Initialize a separate scaler for the target variable\n",
    "scaler_y = MinMaxScaler()\n",
    "\n",
    "# Scale 'y' (the target variable)\n",
    "y_train_scaled = scaler_y.fit_transform(y_train.values.reshape(-1, 1)).flatten()\n",
    "y_test_scaled = scaler_y.transform(y_test.values.reshape(-1, 1)).flatten()\n"
   ]
  },
  {
   "cell_type": "markdown",
   "id": "7881ee7e-41ef-4b99-b2b0-fb1f0f4c32be",
   "metadata": {},
   "source": [
    "## Imports"
   ]
  },
  {
   "cell_type": "code",
   "execution_count": 2,
   "id": "aa19a2a7-1cbe-445c-90a5-731f68095106",
   "metadata": {},
   "outputs": [
    {
     "name": "stderr",
     "output_type": "stream",
     "text": [
      "/Users/nikhilrazab-sekh/Desktop/simpful_btc/implementation/.venv/lib/python3.9/site-packages/urllib3/__init__.py:35: NotOpenSSLWarning: urllib3 v2 only supports OpenSSL 1.1.1+, currently the 'ssl' module is compiled with 'LibreSSL 2.8.3'. See: https://github.com/urllib3/urllib3/issues/3020\n",
      "  warnings.warn(\n"
     ]
    }
   ],
   "source": [
    "import tensorflow as tf\n",
    "from tensorflow.keras.models import Sequential\n",
    "from tensorflow.keras.layers import LSTM, Dense\n",
    "from tensorflow.keras.optimizers import Adam\n",
    "from keras_tuner import RandomSearch\n"
   ]
  },
  {
   "cell_type": "markdown",
   "id": "3696f698-79ae-4842-ae26-acb928d93a74",
   "metadata": {},
   "source": [
    "## Get time for one Epoch"
   ]
  },
  {
   "cell_type": "code",
   "execution_count": 6,
   "id": "64f741a3-0c4c-4d45-b8bc-84197f698457",
   "metadata": {},
   "outputs": [
    {
     "ename": "IndexError",
     "evalue": "tuple index out of range",
     "output_type": "error",
     "traceback": [
      "\u001b[0;31m---------------------------------------------------------------------------\u001b[0m",
      "\u001b[0;31mIndexError\u001b[0m                                Traceback (most recent call last)",
      "Cell \u001b[0;32mIn[6], line 8\u001b[0m\n\u001b[1;32m      5\u001b[0m \u001b[38;5;28;01mfrom\u001b[39;00m \u001b[38;5;21;01mtensorflow\u001b[39;00m\u001b[38;5;21;01m.\u001b[39;00m\u001b[38;5;21;01mkeras\u001b[39;00m\u001b[38;5;21;01m.\u001b[39;00m\u001b[38;5;21;01moptimizers\u001b[39;00m \u001b[38;5;28;01mimport\u001b[39;00m Adam\n\u001b[1;32m      7\u001b[0m n_input \u001b[38;5;241m=\u001b[39m X_train_scaled\u001b[38;5;241m.\u001b[39mshape[\u001b[38;5;241m1\u001b[39m]  \u001b[38;5;66;03m# Assuming X_train_scaled is a 3D array of shape (samples, time_steps, features)\u001b[39;00m\n\u001b[0;32m----> 8\u001b[0m n_features \u001b[38;5;241m=\u001b[39m \u001b[43mX_train_scaled\u001b[49m\u001b[38;5;241;43m.\u001b[39;49m\u001b[43mshape\u001b[49m\u001b[43m[\u001b[49m\u001b[38;5;241;43m2\u001b[39;49m\u001b[43m]\u001b[49m\n\u001b[1;32m     11\u001b[0m \u001b[38;5;66;03m# Define the model with a typical configuration\u001b[39;00m\n\u001b[1;32m     12\u001b[0m \u001b[38;5;28;01mdef\u001b[39;00m \u001b[38;5;21mcreate_test_model\u001b[39m():\n",
      "\u001b[0;31mIndexError\u001b[0m: tuple index out of range"
     ]
    }
   ],
   "source": [
    "import time\n",
    "import tensorflow as tf\n",
    "from tensorflow.keras.models import Sequential\n",
    "from tensorflow.keras.layers import LSTM, Dense\n",
    "from tensorflow.keras.optimizers import Adam\n",
    "\n",
    "n_input = X_train_scaled.shape[1]  # Assuming X_train_scaled is a 3D array of shape (samples, time_steps, features)\n",
    "n_features = X_train_scaled.shape[2]\n",
    "\n",
    "\n",
    "# Define the model with a typical configuration\n",
    "def create_test_model():\n",
    "    model = Sequential()\n",
    "    model.add(LSTM(units=100, activation='relu', input_shape=(n_input, n_features)))\n",
    "    model.add(Dense(1))\n",
    "    model.compile(optimizer=Adam(learning_rate=0.001), loss='mse')\n",
    "    return model\n",
    "\n",
    "model = create_test_model()\n",
    "\n",
    "# Measure the time for a few epochs\n",
    "start_time = time.time()\n",
    "\n",
    "model.fit(\n",
    "    X_train_scaled, y_train_scaled,\n",
    "    epochs=2,  # Small number of epochs\n",
    "    validation_data=(X_test_scaled, y_test_scaled),\n",
    "    verbose=1\n",
    ")\n",
    "\n",
    "elapsed_time = time.time() - start_time\n",
    "time_per_epoch = elapsed_time / 2  # Since we're running for 2 epochs\n",
    "\n",
    "print(f\"Time per epoch: {time_per_epoch} seconds\")\n"
   ]
  },
  {
   "cell_type": "markdown",
   "id": "6e783a5e-df0a-4e35-a874-b78d2ebb0a34",
   "metadata": {},
   "source": [
    "# The actual run"
   ]
  },
  {
   "cell_type": "code",
   "execution_count": null,
   "id": "9c7ec3ed-c466-43a0-99d7-5a9a43efde58",
   "metadata": {},
   "outputs": [],
   "source": [
    "def build_model(hp):\n",
    "    model = Sequential()\n",
    "    model.add(LSTM(\n",
    "        units=hp.Int('units', min_value=50, max_value=150, step=50),\n",
    "        activation=hp.Choice('activation', ['relu', 'tanh']),\n",
    "        input_shape=(n_input, n_features)\n",
    "    ))\n",
    "    model.add(Dense(1))\n",
    "    model.compile(\n",
    "        optimizer=Adam(hp.Float('learning_rate', min_value=0.0001, max_value=0.01, sampling='log')),\n",
    "        loss='mse'\n",
    "    )\n",
    "    return model\n",
    "\n",
    "tuner = RandomSearch(\n",
    "    build_model,\n",
    "    objective='val_loss',\n",
    "    max_trials=10,\n",
    "    executions_per_trial=2,\n",
    "    directory='keras_tuner_dir',\n",
    "    project_name='rnn_tuning'\n",
    ")\n",
    "\n",
    "callbacks = [\n",
    "    tf.keras.callbacks.EarlyStopping('val_loss', patience=3),\n",
    "    tf.keras.callbacks.TensorBoard(log_dir='./logs')  # Add TensorBoard callback\n",
    "]\n",
    "\n",
    "tuner.search(\n",
    "    X_train_scaled, y_train_scaled,\n",
    "    epochs=20,\n",
    "    validation_data=(X_test_scaled, y_test_scaled),\n",
    "    callbacks=callbacks\n",
    ")\n",
    "\n",
    "\n",
    "best_model = tuner.get_best_models(num_models=1)[0]\n",
    "best_hyperparameters = tuner.get_best_hyperparameters()[0]\n",
    "\n",
    "# Evaluate the best model\n",
    "loss = best_model.evaluate(X_test_scaled, y_test_scaled)\n",
    "print('Loss:', loss)\n",
    "\n",
    "# Print best hyperparameters\n",
    "print('Best hyperparameters:', best_hyperparameters.values)\n",
    "\n"
   ]
  }
 ],
 "metadata": {
  "kernelspec": {
   "display_name": "Python (.venv)",
   "language": "python",
   "name": ".venv"
  },
  "language_info": {
   "codemirror_mode": {
    "name": "ipython",
    "version": 3
   },
   "file_extension": ".py",
   "mimetype": "text/x-python",
   "name": "python",
   "nbconvert_exporter": "python",
   "pygments_lexer": "ipython3",
   "version": "3.9.6"
  }
 },
 "nbformat": 4,
 "nbformat_minor": 5
}
