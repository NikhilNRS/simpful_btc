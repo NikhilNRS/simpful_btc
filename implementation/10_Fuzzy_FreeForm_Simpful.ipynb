{
 "cells": [
  {
   "cell_type": "code",
   "execution_count": 1,
   "id": "7a11b645-d443-465d-8eec-8f6979472c64",
   "metadata": {},
   "outputs": [],
   "source": [
    "import pandas as pd\n",
    "from sklearn.preprocessing import MinMaxScaler\n",
    "\n",
    "# Paths to the prepped data files\n",
    "base_path = './data/prepped_data/'  # Adjusted base path to where your files are now\n",
    "X_train_path = base_path + 'X_train.csv'\n",
    "X_test_path = base_path + 'X_test.csv'\n",
    "y_train_path = base_path + 'y_train.csv'\n",
    "y_test_path = base_path + 'y_test.csv'\n",
    "\n",
    "# Loading the datasets\n",
    "X_train = pd.read_csv(X_train_path)\n",
    "X_test = pd.read_csv(X_test_path)\n",
    "y_train = pd.read_csv(y_train_path)\n",
    "y_test = pd.read_csv(y_test_path)\n",
    "\n",
    "# Assuming the last columns of X_train and X_test are year, month, day, hour for reconstructing the datetime index\n",
    "X_train['datetime'] = pd.to_datetime(X_train[['year', 'month', 'day', 'hour']])\n",
    "X_test['datetime'] = pd.to_datetime(X_test[['year', 'month', 'day', 'hour']])\n",
    "y_train.index = pd.to_datetime(X_train['datetime'])\n",
    "y_test.index = pd.to_datetime(X_test['datetime'])\n",
    "\n",
    "# Exclude non-numerical columns before scaling\n",
    "columns_to_scale = X_train.columns.difference(['year', 'month', 'day', 'hour', 'datetime'])\n",
    "\n",
    "# Initialize the scaler for the features\n",
    "scaler_X = MinMaxScaler()\n",
    "\n",
    "# Scale 'X' features (excluding non-numerical columns)\n",
    "X_train_scaled = scaler_X.fit_transform(X_train[columns_to_scale])\n",
    "X_test_scaled = scaler_X.transform(X_test[columns_to_scale])\n",
    "\n",
    "# Initialize a separate scaler for the target variable\n",
    "scaler_y = MinMaxScaler()\n",
    "\n",
    "# Scale 'y' (the target variable)\n",
    "y_train_scaled = scaler_y.fit_transform(y_train.values.reshape(-1, 1)).flatten()\n",
    "y_test_scaled = scaler_y.transform(y_test.values.reshape(-1, 1)).flatten()\n"
   ]
  },
  {
   "cell_type": "code",
   "execution_count": null,
   "id": "f3951ea2-18ee-45e0-803e-1d9cfd0b7133",
   "metadata": {},
   "outputs": [],
   "source": []
  }
 ],
 "metadata": {
  "kernelspec": {
   "display_name": "Python (.venv)",
   "language": "python",
   "name": ".venv"
  },
  "language_info": {
   "codemirror_mode": {
    "name": "ipython",
    "version": 3
   },
   "file_extension": ".py",
   "mimetype": "text/x-python",
   "name": "python",
   "nbconvert_exporter": "python",
   "pygments_lexer": "ipython3",
   "version": "3.9.6"
  }
 },
 "nbformat": 4,
 "nbformat_minor": 5
}
