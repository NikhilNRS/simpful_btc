{
 "cells": [
  {
   "cell_type": "code",
   "execution_count": 1,
   "id": "4757b9a2-2868-4c2c-ac48-3b74479e049e",
   "metadata": {},
   "outputs": [
    {
     "name": "stdout",
     "output_type": "stream",
     "text": [
      "  ____  __  _  _  ____  ____  _  _  __   \n",
      " / ___)(  )( \\/ )(  _ \\(  __)/ )( \\(  ) v2.12.0 \n",
      " \\___ \\ )( / \\/ \\ ) __/ ) _) ) \\/ (/ (_/\\ \n",
      " (____/(__)\\_)(_/(__)  (__)  \\____/\\____/\n",
      "\n",
      " https://github.com/aresio/simpful\n",
      "\n",
      " * Detected Sugeno model type\n",
      "{'Tip': 14.777777777777779}\n"
     ]
    }
   ],
   "source": [
    "from simpful import *\n",
    "\n",
    "# A simple fuzzy inference system for the tipping problem\n",
    "# Create a fuzzy system object\n",
    "FS = FuzzySystem()\n",
    "\n",
    "# Define fuzzy sets and linguistic variables\n",
    "S_1 = FuzzySet(points=[[0., 1.],  [5., 0.]], term=\"poor\")\n",
    "S_2 = FuzzySet(points=[[0., 0.], [5., 1.], [10., 0.]], term=\"good\")\n",
    "S_3 = FuzzySet(points=[[5., 0.],  [10., 1.]], term=\"excellent\")\n",
    "FS.add_linguistic_variable(\"Service\", LinguisticVariable([S_1, S_2, S_3], concept=\"Service quality\"))\n",
    "\n",
    "F_1 = FuzzySet(points=[[0., 1.],  [10., 0.]], term=\"rancid\")\n",
    "F_2 = FuzzySet(points=[[0., 0.],  [10., 1.]], term=\"delicious\")\n",
    "FS.add_linguistic_variable(\"Food\", LinguisticVariable([F_1, F_2], concept=\"Food quality\"))\n",
    "\n",
    "# Define output crisp values\n",
    "FS.set_crisp_output_value(\"small\", 5)\n",
    "FS.set_crisp_output_value(\"average\", 15)\n",
    "\n",
    "# Define function for generous tip (food score + service score + 5%)\n",
    "FS.set_output_function(\"generous\", \"Food+Service+5\")\n",
    "\n",
    "# Define fuzzy rules\n",
    "R1 = \"IF (Service IS poor) OR (Food IS rancid) THEN (Tip IS small)\"\n",
    "R2 = \"IF (Service IS good) THEN (Tip IS average)\"\n",
    "R3 = \"IF (Service IS excellent) OR (Food IS delicious) THEN (Tip IS generous)\"\n",
    "FS.add_rules([R1, R2, R3])\n",
    "\n",
    "# Set antecedents values\n",
    "FS.set_variable(\"Service\", 4)\n",
    "FS.set_variable(\"Food\", 8)\n",
    "\n",
    "# Perform Sugeno inference and print output\n",
    "print(FS.Sugeno_inference([\"Tip\"]))"
   ]
  },
  {
   "cell_type": "code",
   "execution_count": null,
   "id": "f41839eb-d838-4ad8-a987-504e35230871",
   "metadata": {},
   "outputs": [],
   "source": []
  }
 ],
 "metadata": {
  "kernelspec": {
   "display_name": "Python 3 (ipykernel)",
   "language": "python",
   "name": "python3"
  },
  "language_info": {
   "codemirror_mode": {
    "name": "ipython",
    "version": 3
   },
   "file_extension": ".py",
   "mimetype": "text/x-python",
   "name": "python",
   "nbconvert_exporter": "python",
   "pygments_lexer": "ipython3",
   "version": "3.9.6"
  }
 },
 "nbformat": 4,
 "nbformat_minor": 5
}
