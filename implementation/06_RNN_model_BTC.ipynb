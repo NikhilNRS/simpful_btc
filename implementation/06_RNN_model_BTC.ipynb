{
 "cells": [
  {
   "cell_type": "code",
   "execution_count": null,
   "id": "c11d6792-2af5-43db-8f50-0d641ff78c9a",
   "metadata": {},
   "outputs": [],
   "source": [
    "import pandas as pd\n",
    "import seaborn as sns\n",
    "from sklearn.preprocessing import MinMaxScaler\n",
    "\n",
    "# Paths to the prepped data files\n",
    "base_path = 'data/prepped_data/'\n",
    "X_train_path = base_path + 'X_train.csv'\n",
    "X_test_path = base_path + 'X_test.csv'\n",
    "y_train_path = base_path + 'y_train.csv'\n",
    "y_test_path = base_path + 'y_test.csv'\n",
    "\n",
    "# Loading the datasets\n",
    "X_train = pd.read_csv(X_train_path)\n",
    "X_test = pd.read_csv(X_test_path)\n",
    "y_train_df = pd.read_csv(y_train_path)\n",
    "y_test_df = pd.read_csv(y_test_path)\n",
    "\n",
    "# Convert to Series if they are single-column DataFrames\n",
    "y_train = y_train_df.iloc[:, 0] if y_train_df.shape[1] == 1 else y_train_df\n",
    "y_test = y_test_df.iloc[:, 0] if y_test_df.shape[1] == 1 else y_test_df\n",
    "\n",
    "# Assuming you want to scale your data using MinMaxScaler\n",
    "scaler = MinMaxScaler()\n",
    "\n",
    "# Scale 'X' features\n",
    "X_train_scaled = scaler.fit_transform(X_train)\n",
    "X_test_scaled = scaler.transform(X_test)\n",
    "\n",
    "# Scale 'y' if necessary\n",
    "y_train_scaled = scaler.fit_transform(y_train.values.reshape(-1, 1)).flatten()\n",
    "y_test_scaled = scaler.transform(y_test.values.reshape(-1, 1)).flatten()\n"
   ]
  }
 ],
 "metadata": {
  "kernelspec": {
   "display_name": "Python 3 (ipykernel)",
   "language": "python",
   "name": "python3"
  },
  "language_info": {
   "codemirror_mode": {
    "name": "ipython",
    "version": 3
   },
   "file_extension": ".py",
   "mimetype": "text/x-python",
   "name": "python",
   "nbconvert_exporter": "python",
   "pygments_lexer": "ipython3",
   "version": "3.9.6"
  }
 },
 "nbformat": 4,
 "nbformat_minor": 5
}
